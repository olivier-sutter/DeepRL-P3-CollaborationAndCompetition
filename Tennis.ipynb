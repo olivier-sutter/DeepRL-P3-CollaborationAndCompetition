{
 "cells": [
  {
   "cell_type": "markdown",
   "metadata": {},
   "source": [
    "# Collaboration and Competition\n",
    "\n",
    "---\n",
    "\n",
    "You are welcome to use this coding environment to train your agent for the project.  Follow the instructions below to get started!\n",
    "\n",
    "## Start the Environment\n",
    "\n",
    "Run the next code cell to install a few packages.  This line will take a few minutes to run!"
   ]
  },
  {
   "cell_type": "markdown",
   "metadata": {},
   "source": [
    "The environment is already saved in the Workspace and can be accessed at the file path provided below. "
   ]
  },
  {
   "cell_type": "code",
   "execution_count": 1,
   "metadata": {
    "ExecuteTime": {
     "end_time": "2019-11-25T13:37:57.162805Z",
     "start_time": "2019-11-25T13:37:52.496665Z"
    }
   },
   "outputs": [
    {
     "name": "stderr",
     "output_type": "stream",
     "text": [
      "INFO:unityagents:\n",
      "'Academy' started successfully!\n",
      "Unity Academy name: Academy\n",
      "        Number of Brains: 1\n",
      "        Number of External Brains : 1\n",
      "        Lesson number : 0\n",
      "        Reset Parameters :\n",
      "\t\t\n",
      "Unity brain name: TennisBrain\n",
      "        Number of Visual Observations (per agent): 0\n",
      "        Vector Observation space type: continuous\n",
      "        Vector Observation space size (per agent): 8\n",
      "        Number of stacked Vector Observation: 3\n",
      "        Vector Action space type: continuous\n",
      "        Vector Action space size (per agent): 2\n",
      "        Vector Action descriptions: , \n"
     ]
    }
   ],
   "source": [
    "from unityagents import UnityEnvironment\n",
    "import numpy as np\n",
    "from maddpg_agent import Agent\n",
    "from collections import deque\n",
    "import matplotlib.pyplot as plt\n",
    "import random\n",
    "import time\n",
    "import torch\n",
    "\n",
    "env = UnityEnvironment(file_name=\"Tennis.app\")"
   ]
  },
  {
   "cell_type": "markdown",
   "metadata": {},
   "source": [
    "Environments contain **_brains_** which are responsible for deciding the actions of their associated agents. Here we check for the first brain available, and set it as the default brain we will be controlling from Python."
   ]
  },
  {
   "cell_type": "code",
   "execution_count": 2,
   "metadata": {
    "ExecuteTime": {
     "end_time": "2019-11-25T13:37:58.093379Z",
     "start_time": "2019-11-25T13:37:58.090417Z"
    }
   },
   "outputs": [],
   "source": [
    "# get the default brain\n",
    "brain_name = env.brain_names[0]\n",
    "brain = env.brains[brain_name]"
   ]
  },
  {
   "cell_type": "markdown",
   "metadata": {},
   "source": [
    "## Examine the State and Action Spaces\n",
    "\n",
    "Run the code cell below to print some information about the environment."
   ]
  },
  {
   "cell_type": "code",
   "execution_count": 3,
   "metadata": {
    "ExecuteTime": {
     "end_time": "2019-11-25T13:38:00.517250Z",
     "start_time": "2019-11-25T13:38:00.241625Z"
    }
   },
   "outputs": [
    {
     "name": "stdout",
     "output_type": "stream",
     "text": [
      "Number of agents: 2\n",
      "Size of each action: 2\n",
      "There are 2 agents. Each observes a state with length: 24\n",
      "The state for the first agent looks like: [ 0.          0.          0.          0.          0.          0.\n",
      "  0.          0.          0.          0.          0.          0.\n",
      "  0.          0.          0.          0.         -6.65278625 -1.5\n",
      " -0.          0.          6.83172083  6.         -0.          0.        ]\n"
     ]
    }
   ],
   "source": [
    "# reset the environment\n",
    "env_info = env.reset(train_mode=True)[brain_name]\n",
    "\n",
    "# number of agents \n",
    "num_agents = len(env_info.agents)\n",
    "print('Number of agents:', num_agents)\n",
    "\n",
    "# size of each action\n",
    "action_size = brain.vector_action_space_size\n",
    "print('Size of each action:', action_size)\n",
    "\n",
    "# examine the state space \n",
    "states = env_info.vector_observations\n",
    "state_size = states.shape[1]\n",
    "print('There are {} agents. Each observes a state with length: {}'.format(states.shape[0], state_size))\n",
    "print('The state for the first agent looks like:', states[0])"
   ]
  },
  {
   "cell_type": "markdown",
   "metadata": {},
   "source": [
    "## Take Random Actions in the Environment\n",
    "\n",
    "In the next code cell, you will learn how to use the Python API to control the agent and receive feedback from the environment.\n",
    "\n",
    "Note that **in this coding environment, you will not be able to watch the agents while they are training**, and you should set `train_mode=True` to restart the environment."
   ]
  },
  {
   "cell_type": "code",
   "execution_count": 5,
   "metadata": {},
   "outputs": [],
   "source": [
    "# for i in range(5):                                         # play game for 5 episodes\n",
    "#     env_info = env.reset(train_mode=False)[brain_name]     # reset the environment    \n",
    "#     states = env_info.vector_observations                  # get the current state (for each agent)\n",
    "#     scores = np.zeros(num_agents)                          # initialize the score (for each agent)\n",
    "#     while True:\n",
    "#         actions = np.random.randn(num_agents, action_size) # select an action (for each agent)\n",
    "#         actions = np.clip(actions, -1, 1)                  # all actions between -1 and 1\n",
    "#         env_info = env.step(actions)[brain_name]           # send all actions to tne environment\n",
    "#         next_states = env_info.vector_observations         # get next state (for each agent)\n",
    "#         rewards = env_info.rewards                         # get reward (for each agent)\n",
    "#         dones = env_info.local_done                        # see if episode finished\n",
    "#         scores += env_info.rewards                         # update the score (for each agent)\n",
    "#         states = next_states                               # roll over states to next time step\n",
    "#         if np.any(dones):                                  # exit loop if episode finished\n",
    "#             break\n",
    "#     print('Total score (averaged over agents) this episode: {}'.format(np.mean(scores)))"
   ]
  },
  {
   "cell_type": "markdown",
   "metadata": {},
   "source": [
    "When finished, you can close the environment."
   ]
  },
  {
   "cell_type": "markdown",
   "metadata": {},
   "source": [
    "# Training\n",
    "\n",
    "Now it's your turn to train your own agent to solve the environment!  A few **important notes**:\n",
    "- When training the environment, set `train_mode=True`, so that the line for resetting the environment looks like the following:\n",
    "```python\n",
    "env_info = env.reset(train_mode=True)[brain_name]\n",
    "```\n",
    "- To structure your work, you're welcome to work directly in this Jupyter notebook, or you might like to start over with a new file!  You can see the list of files in the workspace by clicking on **_Jupyter_** in the top left corner of the notebook.\n",
    "- In this coding environment, you will not be able to watch the agents while they are training.  However, **_after training the agents_**, you can download the saved model weights to watch the agents on your own machine! "
   ]
  },
  {
   "cell_type": "code",
   "execution_count": 6,
   "metadata": {},
   "outputs": [],
   "source": [
    "PRINT_EVERY = 50\n",
    "add_noise = True\n",
    "\n",
    "def maddpg(n_episodes=5000, max_t=2000, train_mode=True):\n",
    "    \n",
    "    print('\\rTraining launched.')\n",
    "\n",
    "    scores_window = deque(maxlen=100)\n",
    "    scores_all = []\n",
    "    moving_average = []\n",
    "    best_score = -np.inf\n",
    "    best_episode = 0\n",
    "    \n",
    "    already_solved = False    \n",
    "\n",
    "    for i_episode in range(1, n_episodes+1):\n",
    "        env_info = env.reset(train_mode=train_mode)[brain_name]         # reset the environment\n",
    "        states = np.reshape(env_info.vector_observations, (1,48)) # get states and combine them\n",
    "        agent0.reset()\n",
    "        agent1.reset()\n",
    "        scores = np.zeros(num_agents)\n",
    "        while True:\n",
    "            action0 , action1 = agent0.act(states, add_noise) , agent1.act(states, add_noise)  \n",
    "            actions = np.concatenate((action0, action1), axis=0).flatten()           # choose agent actions and combine them\n",
    "            env_info = env.step(actions)[brain_name]           # send both agents' actions together to the environment\n",
    "            next_states = np.reshape(env_info.vector_observations, (1, 48)) # combine the agent next states\n",
    "            rewards = env_info.rewards                         # get reward\n",
    "            done = env_info.local_done                         # see if episode finished\n",
    "            agent0.step(states, actions, rewards[0], next_states, done, 0) # agent 1 learns\n",
    "            agent1.step(states, actions, rewards[1], next_states, done, 1) # agent 2 learns\n",
    "            scores += np.max(rewards)                          # update the score for each agent\n",
    "            states = next_states                               # roll over states to next time step\n",
    "            if np.any(done):                                   # exit loop if episode finished\n",
    "                break\n",
    "\n",
    "        ep_best_score = np.max(scores)\n",
    "        scores_window.append(ep_best_score)\n",
    "        scores_all.append(ep_best_score)\n",
    "        moving_average.append(np.mean(scores_window))\n",
    "\n",
    "        # save best score                        \n",
    "        if ep_best_score > best_score:\n",
    "            best_score = ep_best_score\n",
    "            best_episode = i_episode\n",
    "        \n",
    "        # print results\n",
    "        if i_episode % PRINT_EVERY == 0:\n",
    "            print('Episode {}\\tMax Reward: {:.3f}\\tMoving Average: {:.3f}'.format(\n",
    "                i_episode, np.max(scores_all[-PRINT_EVERY:]), moving_average[-1]))\n",
    "\n",
    "        # determine if environment is solved and keep best performing models\n",
    "        if moving_average[-1] >= 0.5:\n",
    "            if not already_solved:\n",
    "                print('\\nEnvironment solved in {:d} episodes! \\\n",
    "                \\n<-- Moving Average: {:.3f} over past 100 episodes\\n'.format(\n",
    "                    i_episode, moving_average[-1]))\n",
    "                already_solved = True\n",
    "                # save weights\n",
    "                torch.save(agent0.actor_local.state_dict(), 'weights/checkpointactor0.pth')\n",
    "                torch.save(agent0.critic_local.state_dict(), 'weights/checkpointcritic0.pth')\n",
    "                torch.save(agent1.actor_local.state_dict(), 'weights/checkpointactor1.pth')\n",
    "                torch.save(agent1.critic_local.state_dict(), 'weights/checkpointcritic1.pth')\n",
    "            elif ep_best_score >= best_score:\n",
    "                print('\\nBest episode\\\n",
    "                \\nEpisode : {}\\tMax Reward: {:.3f}\\tMoving Average: {:.3f}\\n'.format(\n",
    "                i_episode, ep_best_score, moving_average[-1]))\n",
    "                # save weights\n",
    "                torch.save(agent0.actor_local.state_dict(), 'weights/checkpointactor0.pth')\n",
    "                torch.save(agent0.critic_local.state_dict(), 'weights/checkpointcritic0.pth')\n",
    "                torch.save(agent1.actor_local.state_dict(), 'weights/checkpointactor1.pth')\n",
    "                torch.save(agent1.critic_local.state_dict(), 'weights/checkpointcritic1.pth')\n",
    "            elif (i_episode-best_episode) >= 500:\n",
    "                # stop training if model stops converging\n",
    "                print('Training stopped. Best score not matched or exceeded for 500 episodes')\n",
    "                break\n",
    "            else:\n",
    "                continue\n",
    "            \n",
    "    return scores_all, moving_average"
   ]
  },
  {
   "cell_type": "code",
   "execution_count": 7,
   "metadata": {
    "scrolled": true
   },
   "outputs": [
    {
     "name": "stdout",
     "output_type": "stream",
     "text": [
      "Training launched.\n",
      "Episode 50\tMax Reward: 0.200\tMoving Average: 0.008\n",
      "Episode 100\tMax Reward: 0.100\tMoving Average: 0.009\n",
      "Episode 150\tMax Reward: 0.100\tMoving Average: 0.009\n",
      "Episode 200\tMax Reward: 0.100\tMoving Average: 0.007\n",
      "Episode 250\tMax Reward: 0.200\tMoving Average: 0.007\n",
      "Episode 300\tMax Reward: 0.200\tMoving Average: 0.011\n",
      "Episode 350\tMax Reward: 0.100\tMoving Average: 0.008\n",
      "Episode 400\tMax Reward: 0.100\tMoving Average: 0.004\n",
      "Episode 450\tMax Reward: 0.100\tMoving Average: 0.007\n",
      "Episode 500\tMax Reward: 0.100\tMoving Average: 0.009\n",
      "Episode 550\tMax Reward: 0.200\tMoving Average: 0.012\n",
      "Episode 600\tMax Reward: 0.300\tMoving Average: 0.018\n",
      "Episode 650\tMax Reward: 0.100\tMoving Average: 0.017\n",
      "Episode 700\tMax Reward: 0.100\tMoving Average: 0.015\n",
      "Episode 750\tMax Reward: 0.200\tMoving Average: 0.022\n",
      "Episode 800\tMax Reward: 0.100\tMoving Average: 0.018\n",
      "Episode 850\tMax Reward: 0.300\tMoving Average: 0.019\n",
      "Episode 900\tMax Reward: 0.100\tMoving Average: 0.018\n",
      "Episode 950\tMax Reward: 0.100\tMoving Average: 0.010\n",
      "Episode 1000\tMax Reward: 0.100\tMoving Average: 0.017\n",
      "Episode 1050\tMax Reward: 0.100\tMoving Average: 0.013\n",
      "Episode 1100\tMax Reward: 0.100\tMoving Average: 0.007\n",
      "Episode 1150\tMax Reward: 0.100\tMoving Average: 0.007\n",
      "Episode 1200\tMax Reward: 0.300\tMoving Average: 0.010\n",
      "Episode 1250\tMax Reward: 0.100\tMoving Average: 0.016\n",
      "Episode 1300\tMax Reward: 0.200\tMoving Average: 0.017\n",
      "Episode 1350\tMax Reward: 0.200\tMoving Average: 0.018\n",
      "Episode 1400\tMax Reward: 0.300\tMoving Average: 0.023\n",
      "Episode 1450\tMax Reward: 0.400\tMoving Average: 0.032\n",
      "Episode 1500\tMax Reward: 0.200\tMoving Average: 0.035\n",
      "Episode 1550\tMax Reward: 0.200\tMoving Average: 0.037\n",
      "Episode 1600\tMax Reward: 0.200\tMoving Average: 0.032\n",
      "Episode 1650\tMax Reward: 0.500\tMoving Average: 0.036\n",
      "Episode 1700\tMax Reward: 0.200\tMoving Average: 0.055\n",
      "Episode 1750\tMax Reward: 0.300\tMoving Average: 0.061\n",
      "Episode 1800\tMax Reward: 0.300\tMoving Average: 0.059\n",
      "Episode 1850\tMax Reward: 0.400\tMoving Average: 0.066\n",
      "Episode 1900\tMax Reward: 0.200\tMoving Average: 0.069\n",
      "Episode 1950\tMax Reward: 0.400\tMoving Average: 0.076\n",
      "Episode 2000\tMax Reward: 0.300\tMoving Average: 0.072\n",
      "Episode 2050\tMax Reward: 0.600\tMoving Average: 0.075\n",
      "Episode 2100\tMax Reward: 0.600\tMoving Average: 0.098\n",
      "Episode 2150\tMax Reward: 0.400\tMoving Average: 0.087\n",
      "Episode 2200\tMax Reward: 0.500\tMoving Average: 0.104\n",
      "Episode 2250\tMax Reward: 0.500\tMoving Average: 0.109\n",
      "Episode 2300\tMax Reward: 0.400\tMoving Average: 0.095\n",
      "Episode 2350\tMax Reward: 0.700\tMoving Average: 0.126\n",
      "Episode 2400\tMax Reward: 0.600\tMoving Average: 0.148\n",
      "Episode 2450\tMax Reward: 0.700\tMoving Average: 0.168\n",
      "Episode 2500\tMax Reward: 1.000\tMoving Average: 0.168\n",
      "Episode 2550\tMax Reward: 0.500\tMoving Average: 0.135\n",
      "Episode 2600\tMax Reward: 0.500\tMoving Average: 0.120\n",
      "Episode 2650\tMax Reward: 0.400\tMoving Average: 0.114\n",
      "Episode 2700\tMax Reward: 0.800\tMoving Average: 0.125\n",
      "Episode 2750\tMax Reward: 1.100\tMoving Average: 0.161\n",
      "Episode 2800\tMax Reward: 1.000\tMoving Average: 0.178\n",
      "Episode 2850\tMax Reward: 1.200\tMoving Average: 0.203\n",
      "Episode 2900\tMax Reward: 0.900\tMoving Average: 0.236\n",
      "Episode 2950\tMax Reward: 1.990\tMoving Average: 0.353\n",
      "\n",
      "Environment solved in 2967 episodes!                 \n",
      "<-- Moving Average: 0.503 over past 100 episodes\n",
      "\n",
      "Episode 3000\tMax Reward: 3.800\tMoving Average: 0.644\n",
      "Episode 3050\tMax Reward: 2.600\tMoving Average: 0.651\n",
      "Episode 3100\tMax Reward: 2.400\tMoving Average: 0.460\n",
      "Episode 3150\tMax Reward: 2.100\tMoving Average: 0.472\n",
      "Episode 3200\tMax Reward: 3.400\tMoving Average: 0.516\n",
      "Episode 3250\tMax Reward: 2.800\tMoving Average: 0.581\n",
      "Episode 3300\tMax Reward: 3.600\tMoving Average: 0.644\n",
      "Episode 3350\tMax Reward: 3.300\tMoving Average: 0.660\n",
      "\n",
      "Best episode                \n",
      "Episode : 3363\tMax Reward: 3.900\tMoving Average: 0.691\n",
      "\n",
      "Episode 3400\tMax Reward: 3.900\tMoving Average: 0.696\n",
      "\n",
      "Best episode                \n",
      "Episode : 3447\tMax Reward: 5.000\tMoving Average: 0.786\n",
      "\n",
      "Episode 3450\tMax Reward: 5.000\tMoving Average: 0.777\n",
      "\n",
      "Best episode                \n",
      "Episode : 3472\tMax Reward: 5.100\tMoving Average: 0.891\n",
      "\n",
      "Episode 3500\tMax Reward: 5.100\tMoving Average: 0.913\n",
      "Episode 3550\tMax Reward: 5.200\tMoving Average: 1.093\n",
      "\n",
      "Best episode                \n",
      "Episode : 3550\tMax Reward: 5.200\tMoving Average: 1.093\n",
      "\n",
      "\n",
      "Best episode                \n",
      "Episode : 3551\tMax Reward: 5.300\tMoving Average: 1.143\n",
      "\n",
      "Episode 3600\tMax Reward: 5.300\tMoving Average: 1.567\n",
      "\n",
      "Best episode                \n",
      "Episode : 3641\tMax Reward: 5.300\tMoving Average: 1.754\n",
      "\n",
      "Episode 3650\tMax Reward: 5.300\tMoving Average: 1.819\n",
      "Episode 3700\tMax Reward: 5.100\tMoving Average: 1.615\n",
      "\n",
      "Best episode                \n",
      "Episode : 3716\tMax Reward: 5.300\tMoving Average: 1.849\n",
      "\n",
      "Episode 3750\tMax Reward: 5.300\tMoving Average: 1.921\n",
      "Episode 3800\tMax Reward: 5.200\tMoving Average: 1.775\n",
      "Episode 3850\tMax Reward: 5.200\tMoving Average: 1.539\n",
      "Episode 3900\tMax Reward: 5.200\tMoving Average: 1.676\n",
      "Episode 3950\tMax Reward: 5.200\tMoving Average: 1.573\n",
      "Episode 4000\tMax Reward: 5.200\tMoving Average: 1.349\n",
      "Episode 4050\tMax Reward: 4.900\tMoving Average: 1.101\n",
      "Training stopped. Best score not matched or exceeded for 500 episodes\n"
     ]
    }
   ],
   "source": [
    "from workspace_utils import active_session\n",
    "\n",
    "agent0 = Agent(state_size, action_size, num_agents=1, random_seed=0)\n",
    "agent1 = Agent(state_size, action_size, num_agents=1, random_seed=0)\n",
    "\n",
    "seed = 16\n",
    "\n",
    "with active_session():\n",
    "    scores, avgs = maddpg()"
   ]
  },
  {
   "cell_type": "markdown",
   "metadata": {},
   "source": [
    "# Training"
   ]
  },
  {
   "cell_type": "code",
   "execution_count": 8,
   "metadata": {},
   "outputs": [
    {
     "data": {
      "image/png": "[encoded data removed]",
      "text/plain": [
       "<matplotlib.figure.Figure at 0x7f5e5e236f98>"
      ]
     },
     "metadata": {
      "needs_background": "light"
     },
     "output_type": "display_data"
    }
   ],
   "source": [
    "fig, ax = plt.subplots(1, 1, figsize=[10, 5])\n",
    "plt.rcParams.update({'font.size': 14})\n",
    "\n",
    "ax.plot(scores, \"-\", c=\"blue\", alpha=0.5)\n",
    "ax.plot(avgs, \"-\", c=\"red\", alpha=0.7)\n",
    "ax.set_xlabel(\"Episode\")\n",
    "ax.set_ylabel(\"Score\")\n",
    "ax.grid(which=\"major\")\n",
    "ax.axhline(0.5, c=\"green\", linewidth=3, alpha=0.5)\n",
    "ax.legend([\"Reward per Episode\",\"Moving Average\" \"Target Score\"])\n",
    "\n",
    "fig.tight_layout()"
   ]
  },
  {
   "cell_type": "markdown",
   "metadata": {},
   "source": [
    "# Testing a trained agent"
   ]
  },
  {
   "cell_type": "code",
   "execution_count": 4,
   "metadata": {
    "ExecuteTime": {
     "end_time": "2019-11-25T13:38:07.247588Z",
     "start_time": "2019-11-25T13:38:07.203516Z"
    }
   },
   "outputs": [],
   "source": [
    "agent0 = Agent(state_size, action_size, num_agents=1, random_seed=0)\n",
    "agent1 = Agent(state_size, action_size, num_agents=1, random_seed=0)\n",
    "\n",
    "agent0.actor_local.load_state_dict(torch.load('weights/checkpointactor0.pth',map_location='cpu'))\n",
    "agent0.critic_local.load_state_dict(torch.load('weights/checkpointcritic0.pth',map_location='cpu'))\n",
    "agent1.actor_local.load_state_dict(torch.load('weights/checkpointactor1.pth',map_location='cpu'))\n",
    "agent1.critic_local.load_state_dict(torch.load('weights/checkpointcritic1.pth',map_location='cpu'))"
   ]
  },
  {
   "cell_type": "code",
   "execution_count": null,
   "metadata": {
    "ExecuteTime": {
     "end_time": "2019-11-25T13:38:51.867657Z",
     "start_time": "2019-11-25T13:38:08.570824Z"
    }
   },
   "outputs": [],
   "source": [
    "for i in range(10):                                         # play game for 5 episodes\n",
    "    env_info = env.reset(train_mode=False)[brain_name]         # reset the environment\n",
    "    states = np.reshape(env_info.vector_observations, (1,48)) # get states and combine them\n",
    "    agent0.reset()\n",
    "    agent1.reset()\n",
    "    scores = np.zeros(num_agents)\n",
    "    while True:\n",
    "        action0 , action1 = agent0.act(states, add_noise=False) , agent1.act(states, add_noise=False)  \n",
    "        actions = np.concatenate((action0, action1), axis=0).flatten()           # choose agent actions and combine them\n",
    "        env_info = env.step(actions)[brain_name]           # send both agents' actions together to the environment\n",
    "        next_states = np.reshape(env_info.vector_observations, (1, 48)) # combine the agent next states\n",
    "        rewards = env_info.rewards                         # get reward\n",
    "        done = env_info.local_done                         # see if episode finished\n",
    "        agent0.step(states, actions, rewards[0], next_states, done, 0) # agent 1 learns\n",
    "        agent1.step(states, actions, rewards[1], next_states, done, 1) # agent 2 learns\n",
    "        scores += np.max(rewards)                          # update the score for each agent\n",
    "        states = next_states                               # roll over states to next time step\n",
    "        if np.any(done):                                   # exit loop if episode finished\n",
    "            break\n",
    "    print('Total score (averaged over agents) this episode: {}'.format(np.mean(scores)))"
   ]
  },
  {
   "cell_type": "code",
   "execution_count": 6,
   "metadata": {
    "ExecuteTime": {
     "end_time": "2019-11-25T13:39:06.097498Z",
     "start_time": "2019-11-25T13:39:06.092833Z"
    }
   },
   "outputs": [],
   "source": [
    "env.close()"
   ]
  }
 ],
 "metadata": {
  "kernelspec": {
   "display_name": "Python 3",
   "language": "python",
   "name": "python3"
  },
  "language_info": {
   "codemirror_mode": {
    "name": "ipython",
    "version": 3
   },
   "file_extension": ".py",
   "mimetype": "text/x-python",
   "name": "python",
   "nbconvert_exporter": "python",
   "pygments_lexer": "ipython3",
   "version": "3.6.5"
  },
  "latex_envs": {
   "LaTeX_envs_menu_present": true,
   "autoclose": false,
   "autocomplete": true,
   "bibliofile": "biblio.bib",
   "cite_by": "apalike",
   "current_citInitial": 1,
   "eqLabelWithNumbers": true,
   "eqNumInitial": 1,
   "hotkeys": {
    "equation": "Ctrl-E",
    "itemize": "Ctrl-I"
   },
   "labels_anchors": false,
   "latex_user_defs": false,
   "report_style_numbering": false,
   "user_envs_cfg": false
  },
  "toc": {
   "base_numbering": 1,
   "nav_menu": {},
   "number_sections": true,
   "sideBar": true,
   "skip_h1_title": false,
   "title_cell": "Table of Contents",
   "title_sidebar": "Contents",
   "toc_cell": false,
   "toc_position": {},
   "toc_section_display": true,
   "toc_window_display": false
  }
 },
 "nbformat": 4,
 "nbformat_minor": 2
}
